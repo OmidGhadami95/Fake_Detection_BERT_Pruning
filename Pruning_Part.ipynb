{
  "nbformat": 4,
  "nbformat_minor": 0,
  "metadata": {
    "colab": {
      "provenance": [],
      "authorship_tag": "ABX9TyMOnexx1r38IlYG0c8WdE8N",
      "include_colab_link": true
    },
    "kernelspec": {
      "name": "python3",
      "display_name": "Python 3"
    },
    "language_info": {
      "name": "python"
    }
  },
  "cells": [
    {
      "cell_type": "markdown",
      "metadata": {
        "id": "view-in-github",
        "colab_type": "text"
      },
      "source": [
        "<a href=\"https://colab.research.google.com/github/OmidGhadami95/Fake_Detection_BERT_Pruning/blob/main/Pruning_Part.ipynb\" target=\"_parent\"><img src=\"https://colab.research.google.com/assets/colab-badge.svg\" alt=\"Open In Colab\"/></a>"
      ]
    },
    {
      "cell_type": "code",
      "execution_count": null,
      "metadata": {
        "id": "Pr_9mLSt0fi6"
      },
      "outputs": [],
      "source": [
        "import torch\n",
        "import torch.nn as nn\n",
        "import torch.nn.utils.prune as prune\n",
        "from transformers import AutoModel\n",
        "\n",
        "# Define model architecture (must match original training code)\n",
        "class BERT_Arch(nn.Module):\n",
        "    def __init__(self, bert):\n",
        "        super(BERT_Arch, self).__init__()\n",
        "        self.bert = bert\n",
        "        self.dropout = nn.Dropout(0.1)\n",
        "        self.relu = nn.ReLU()\n",
        "        self.fc1 = nn.Linear(768, 512)\n",
        "        self.fc2 = nn.Linear(512, 2)\n",
        "        self.softmax = nn.LogSoftmax(dim=1)\n",
        "\n",
        "    def forward(self, sent_id, mask):\n",
        "        cls_hs = self.bert(sent_id, attention_mask=mask)['pooler_output']\n",
        "        x = self.fc1(cls_hs)\n",
        "        x = self.relu(x)\n",
        "        x = self.dropout(x)\n",
        "        x = self.fc2(x)\n",
        "        x = self.softmax(x)\n",
        "        return x\n",
        "\n",
        "# Load pre-trained model\n",
        "def load_model(model_path):\n",
        "    bert = AutoModel.from_pretrained('bert-base-uncased')\n",
        "    model = BERT_Arch(bert)\n",
        "    model.load_state_dict(torch.load(model_path))\n",
        "    return model\n",
        "\n",
        "# Smooth pruning implementation\n",
        "def smooth_pruning(model, pruning_rate=0.2, pruning_steps=10):\n",
        "    for step in range(pruning_steps):\n",
        "        print(f\"Pruning step {step + 1}/{pruning_steps}\")\n",
        "        for name, module in model.named_modules():\n",
        "            if isinstance(module, nn.Linear):\n",
        "                prune.l1_unstructured(module,\n",
        "                                    name='weight',\n",
        "                                    amount=pruning_rate/pruning_steps)\n",
        "\n",
        "    # Make pruning permanent\n",
        "    for name, module in model.named_modules():\n",
        "        if isinstance(module, nn.Linear):\n",
        "            prune.remove(module, 'weight')\n",
        "    return model\n",
        "\n",
        "if __name__ == \"__main__\":\n",
        "    # Configuration\n",
        "    MODEL_PATH = 'c3_new_model_weights.pt'\n",
        "    SAVE_PATH = 'pruned_model_weights.pt'\n",
        "    PRUNING_RATE = 0.2  # Total 20% pruning\n",
        "    PRUNING_STEPS = 10   # Number of pruning iterations\n",
        "\n",
        "    # Load and prune model\n",
        "    model = load_model(MODEL_PATH)\n",
        "    pruned_model = smooth_pruning(model, PRUNING_RATE, PRUNING_STEPS)\n",
        "\n",
        "    # Save pruned model\n",
        "    torch.save(pruned_model.state_dict(), SAVE_PATH)\n",
        "    print(f\"Pruned model saved to {SAVE_PATH}\")"
      ]
    }
  ]
}